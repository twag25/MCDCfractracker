{
 "cells": [
  {
   "cell_type": "markdown",
   "metadata": {},
   "source": [
    "# Scraping/pulling to photo source URL"
   ]
  },
  {
   "cell_type": "markdown",
   "metadata": {},
   "source": [
    "First, I'm looking at the old scrape for tips and to identify any url patterns."
   ]
  },
  {
   "cell_type": "code",
   "execution_count": 26,
   "metadata": {},
   "outputs": [],
   "source": [
    "import pandas as pd\n",
    "import re"
   ]
  },
  {
   "cell_type": "code",
   "execution_count": 27,
   "metadata": {},
   "outputs": [],
   "source": [
    "# data = pd.read_csv('attribute_table.csv')\n",
    "data = pd.read_json('sync.p.json')\n",
    "data.rename(columns={'Photo_source': 'photo_src'}, inplace=True)"
   ]
  },
  {
   "cell_type": "code",
   "execution_count": 28,
   "metadata": {},
   "outputs": [],
   "source": [
    "# making sure there arent repeats to identify a true pattern\n",
    "checking_for_duplicate_srcs = list(data.duplicated('photo_src'))\n",
    "if True in checking_for_duplicate_srcs:\n",
    "    data.drop_duplicates(subset = ['photo_src'], inplace= True)\n",
    "else:\n",
    "    pass\n"
   ]
  },
  {
   "cell_type": "code",
   "execution_count": 29,
   "metadata": {},
   "outputs": [
    {
     "data": {
      "text/html": [
       "<div>\n",
       "<style scoped>\n",
       "    .dataframe tbody tr th:only-of-type {\n",
       "        vertical-align: middle;\n",
       "    }\n",
       "\n",
       "    .dataframe tbody tr th {\n",
       "        vertical-align: top;\n",
       "    }\n",
       "\n",
       "    .dataframe thead th {\n",
       "        text-align: right;\n",
       "    }\n",
       "</style>\n",
       "<table border=\"1\" class=\"dataframe\">\n",
       "  <thead>\n",
       "    <tr style=\"text-align: right;\">\n",
       "      <th></th>\n",
       "      <th>photo_src</th>\n",
       "      <th>URL</th>\n",
       "      <th>PhotoID</th>\n",
       "    </tr>\n",
       "  </thead>\n",
       "  <tbody>\n",
       "    <tr>\n",
       "      <th>64</th>\n",
       "      <td>https://live.staticflickr.com/65535/49742499418_fbdbb78e78_o.jpg</td>\n",
       "      <td>https://www.flickr.com/photos/fractracker/49742499418/in/album-72157715839176878</td>\n",
       "      <td>49742499418</td>\n",
       "    </tr>\n",
       "    <tr>\n",
       "      <th>74</th>\n",
       "      <td>https://live.staticflickr.com/65535/49743045891_31d576a54d_o.jpg</td>\n",
       "      <td>https://www.flickr.com/photos/fractracker/49743045891/in/album-72157715839176878</td>\n",
       "      <td>49743045891</td>\n",
       "    </tr>\n",
       "    <tr>\n",
       "      <th>66</th>\n",
       "      <td>https://live.staticflickr.com/65535/49743046746_45d25cf8c4_o.jpg</td>\n",
       "      <td>https://www.flickr.com/photos/fractracker/49743046746/in/album-72157715839176878</td>\n",
       "      <td>49743046746</td>\n",
       "    </tr>\n",
       "    <tr>\n",
       "      <th>179</th>\n",
       "      <td>https://live.staticflickr.com/65535/49743350002_5993070b9f_o.jpg</td>\n",
       "      <td>https://www.flickr.com/photos/fractracker/49743350002/in/album-72157713808860567</td>\n",
       "      <td>49743350002</td>\n",
       "    </tr>\n",
       "    <tr>\n",
       "      <th>65</th>\n",
       "      <td>https://live.staticflickr.com/65535/49743369437_eea0df6137_o.jpg</td>\n",
       "      <td>https://www.flickr.com/photos/fractracker/49743369437/in/album-72157715839176878</td>\n",
       "      <td>49743369437</td>\n",
       "    </tr>\n",
       "    <tr>\n",
       "      <th>...</th>\n",
       "      <td>...</td>\n",
       "      <td>...</td>\n",
       "      <td>...</td>\n",
       "    </tr>\n",
       "    <tr>\n",
       "      <th>193</th>\n",
       "      <td>https://live.staticflickr.com/65535/51323278290_535768ca72_o.jpg</td>\n",
       "      <td>https://www.flickr.com/photos/fractracker/51323278290/in/album-72157713808860567</td>\n",
       "      <td>51323278290</td>\n",
       "    </tr>\n",
       "    <tr>\n",
       "      <th>198</th>\n",
       "      <td>https://live.staticflickr.com/65535/51388234837_94ba140c4e_o.jpg</td>\n",
       "      <td>https://www.flickr.com/photos/fractracker/51388234837/in/album-72157713808860567</td>\n",
       "      <td>51388234837</td>\n",
       "    </tr>\n",
       "    <tr>\n",
       "      <th>200</th>\n",
       "      <td>https://live.staticflickr.com/65535/51389248318_5b2071e7cd_o.jpg</td>\n",
       "      <td>https://www.flickr.com/photos/fractracker/51389248318/in/album-72157713808860567</td>\n",
       "      <td>51389248318</td>\n",
       "    </tr>\n",
       "    <tr>\n",
       "      <th>199</th>\n",
       "      <td>https://live.staticflickr.com/65535/51389248718_60595d0525_o.jpg</td>\n",
       "      <td>https://www.flickr.com/photos/fractracker/51389248718/in/album-72157713808860567</td>\n",
       "      <td>51389248718</td>\n",
       "    </tr>\n",
       "    <tr>\n",
       "      <th>197</th>\n",
       "      <td>https://live.staticflickr.com/65535/51389732569_5c61180b3e_o.jpg</td>\n",
       "      <td>https://www.flickr.com/photos/fractracker/51389732569/in/album-72157713808860567</td>\n",
       "      <td>51389732569</td>\n",
       "    </tr>\n",
       "  </tbody>\n",
       "</table>\n",
       "<p>199 rows × 3 columns</p>\n",
       "</div>"
      ],
      "text/plain": [
       "                                                            photo_src  \\\n",
       "64   https://live.staticflickr.com/65535/49742499418_fbdbb78e78_o.jpg   \n",
       "74   https://live.staticflickr.com/65535/49743045891_31d576a54d_o.jpg   \n",
       "66   https://live.staticflickr.com/65535/49743046746_45d25cf8c4_o.jpg   \n",
       "179  https://live.staticflickr.com/65535/49743350002_5993070b9f_o.jpg   \n",
       "65   https://live.staticflickr.com/65535/49743369437_eea0df6137_o.jpg   \n",
       "..                                                                ...   \n",
       "193  https://live.staticflickr.com/65535/51323278290_535768ca72_o.jpg   \n",
       "198  https://live.staticflickr.com/65535/51388234837_94ba140c4e_o.jpg   \n",
       "200  https://live.staticflickr.com/65535/51389248318_5b2071e7cd_o.jpg   \n",
       "199  https://live.staticflickr.com/65535/51389248718_60595d0525_o.jpg   \n",
       "197  https://live.staticflickr.com/65535/51389732569_5c61180b3e_o.jpg   \n",
       "\n",
       "                                                                                  URL  \\\n",
       "64   https://www.flickr.com/photos/fractracker/49742499418/in/album-72157715839176878   \n",
       "74   https://www.flickr.com/photos/fractracker/49743045891/in/album-72157715839176878   \n",
       "66   https://www.flickr.com/photos/fractracker/49743046746/in/album-72157715839176878   \n",
       "179  https://www.flickr.com/photos/fractracker/49743350002/in/album-72157713808860567   \n",
       "65   https://www.flickr.com/photos/fractracker/49743369437/in/album-72157715839176878   \n",
       "..                                                                                ...   \n",
       "193  https://www.flickr.com/photos/fractracker/51323278290/in/album-72157713808860567   \n",
       "198  https://www.flickr.com/photos/fractracker/51388234837/in/album-72157713808860567   \n",
       "200  https://www.flickr.com/photos/fractracker/51389248318/in/album-72157713808860567   \n",
       "199  https://www.flickr.com/photos/fractracker/51389248718/in/album-72157713808860567   \n",
       "197  https://www.flickr.com/photos/fractracker/51389732569/in/album-72157713808860567   \n",
       "\n",
       "         PhotoID  \n",
       "64   49742499418  \n",
       "74   49743045891  \n",
       "66   49743046746  \n",
       "179  49743350002  \n",
       "65   49743369437  \n",
       "..           ...  \n",
       "193  51323278290  \n",
       "198  51388234837  \n",
       "200  51389248318  \n",
       "199  51389248718  \n",
       "197  51389732569  \n",
       "\n",
       "[199 rows x 3 columns]"
      ]
     },
     "execution_count": 29,
     "metadata": {},
     "output_type": "execute_result"
    }
   ],
   "source": [
    "pd.set_option('display.max_colwidth', None)\n",
    "subset_data = data[['photo_src', 'URL', 'PhotoID']].sort_values('photo_src')\n",
    "subset_data"
   ]
  },
  {
   "cell_type": "markdown",
   "metadata": {},
   "source": [
    "## Checker:"
   ]
  },
  {
   "cell_type": "markdown",
   "metadata": {},
   "source": [
    "## 1."
   ]
  },
  {
   "cell_type": "code",
   "execution_count": 30,
   "metadata": {},
   "outputs": [],
   "source": [
    "# it looks like the beginning part of src is the same lests see\n",
    "def get_beginning_str_src(data):\n",
    "    return data[0:len('https://live.staticflickr.com/')]"
   ]
  },
  {
   "cell_type": "code",
   "execution_count": 31,
   "metadata": {},
   "outputs": [
    {
     "data": {
      "text/plain": [
       "1"
      ]
     },
     "execution_count": 31,
     "metadata": {},
     "output_type": "execute_result"
    }
   ],
   "source": [
    "# if the list is longer that 1, there are different beginnings to the string. If it =1, all the strings start the same\n",
    "len(subset_data['photo_src'].apply(get_beginning_str_src).unique())"
   ]
  },
  {
   "cell_type": "code",
   "execution_count": 32,
   "metadata": {},
   "outputs": [
    {
     "name": "stdout",
     "output_type": "stream",
     "text": [
      "The first 30 characters of `photo_src` are always https://live.staticflickr.com/\n"
     ]
    }
   ],
   "source": [
    "print('The first', len('https://live.staticflickr.com/'), 'characters of `photo_src` are always https://live.staticflickr.com/' )"
   ]
  },
  {
   "cell_type": "markdown",
   "metadata": {},
   "source": [
    "## 2."
   ]
  },
  {
   "cell_type": "code",
   "execution_count": 33,
   "metadata": {},
   "outputs": [],
   "source": [
    "# it looks like 5 digits always follow the beginning https://live.staticflickr.com/\n",
    "# to check this, i will grab all the characters between the third and fourth \"/\", check that there are 5 characters, and check that it is an integer\n",
    "def get_text_between_third_and_fourth_slash(url):\n",
    "    # Split the string by \"/\"\n",
    "    parts = url.split('/')\n",
    "    # Check if there are enough parts\n",
    "    if len(parts) > 4:\n",
    "        # Return the part between the third and fourth slash\n",
    "        return parts[3]\n",
    "    else:\n",
    "        return \"NaN\""
   ]
  },
  {
   "cell_type": "code",
   "execution_count": 34,
   "metadata": {},
   "outputs": [],
   "source": [
    "five_digit_check = pd.DataFrame(subset_data.photo_src.apply(get_text_between_third_and_fourth_slash))"
   ]
  },
  {
   "cell_type": "code",
   "execution_count": 35,
   "metadata": {},
   "outputs": [
    {
     "data": {
      "text/plain": [
       "photo_src\n",
       "False        199\n",
       "dtype: int64"
      ]
     },
     "execution_count": 35,
     "metadata": {},
     "output_type": "execute_result"
    }
   ],
   "source": [
    "# if it is false, all of the values were successfully grabbed\n",
    "five_digit_check.isna().value_counts()"
   ]
  },
  {
   "cell_type": "code",
   "execution_count": 36,
   "metadata": {},
   "outputs": [
    {
     "name": "stdout",
     "output_type": "stream",
     "text": [
      "it is originally an object\n",
      "and we can successfully convert it to int32 meaning that they are all integers\n"
     ]
    }
   ],
   "source": [
    "print('it is originally an', five_digit_check.dtypes[0])\n",
    "print('and we can successfully convert it to', five_digit_check.astype('int').dtypes[0], 'meaning that they are all integers')"
   ]
  },
  {
   "cell_type": "code",
   "execution_count": 37,
   "metadata": {},
   "outputs": [
    {
     "name": "stdout",
     "output_type": "stream",
     "text": [
      "number of digits | Percent of data\n"
     ]
    },
    {
     "data": {
      "text/plain": [
       "5    100.0\n",
       "Name: photo_src, dtype: float64"
      ]
     },
     "execution_count": 37,
     "metadata": {},
     "output_type": "execute_result"
    }
   ],
   "source": [
    "print('number of digits | Percent of data')\n",
    "five_digit_check.photo_src.apply(lambda x: len(x)).value_counts()/subset_data.shape[0]*100"
   ]
  },
  {
   "cell_type": "markdown",
   "metadata": {},
   "source": [
    "## 3."
   ]
  },
  {
   "cell_type": "code",
   "execution_count": 38,
   "metadata": {},
   "outputs": [],
   "source": [
    "# it looks like the middle part of photo src is identical to he middle part of url and PhotoID, lets see\n",
    "def get_middle_str_src(data):\n",
    "    return data[36:47]\n",
    "\n",
    "def get_middle_str_url(data):\n",
    "    return data[42:53]"
   ]
  },
  {
   "cell_type": "code",
   "execution_count": 39,
   "metadata": {},
   "outputs": [],
   "source": [
    "# running the functions and adding it to a dataframe\n",
    "middle_chars = pd.DataFrame({'src_middle': subset_data['photo_src'].apply(get_middle_str_src), 'URL_middle': subset_data['URL'].apply(get_middle_str_url), 'PhotoID': subset_data['PhotoID'].astype('str')})"
   ]
  },
  {
   "cell_type": "code",
   "execution_count": 40,
   "metadata": {},
   "outputs": [
    {
     "data": {
      "text/html": [
       "<div>\n",
       "<style scoped>\n",
       "    .dataframe tbody tr th:only-of-type {\n",
       "        vertical-align: middle;\n",
       "    }\n",
       "\n",
       "    .dataframe tbody tr th {\n",
       "        vertical-align: top;\n",
       "    }\n",
       "\n",
       "    .dataframe thead th {\n",
       "        text-align: right;\n",
       "    }\n",
       "</style>\n",
       "<table border=\"1\" class=\"dataframe\">\n",
       "  <thead>\n",
       "    <tr style=\"text-align: right;\">\n",
       "      <th></th>\n",
       "      <th>src_middle</th>\n",
       "      <th>URL_middle</th>\n",
       "      <th>PhotoID</th>\n",
       "    </tr>\n",
       "  </thead>\n",
       "  <tbody>\n",
       "    <tr>\n",
       "      <th>64</th>\n",
       "      <td>49742499418</td>\n",
       "      <td>49742499418</td>\n",
       "      <td>49742499418</td>\n",
       "    </tr>\n",
       "    <tr>\n",
       "      <th>74</th>\n",
       "      <td>49743045891</td>\n",
       "      <td>49743045891</td>\n",
       "      <td>49743045891</td>\n",
       "    </tr>\n",
       "    <tr>\n",
       "      <th>66</th>\n",
       "      <td>49743046746</td>\n",
       "      <td>49743046746</td>\n",
       "      <td>49743046746</td>\n",
       "    </tr>\n",
       "    <tr>\n",
       "      <th>179</th>\n",
       "      <td>49743350002</td>\n",
       "      <td>49743350002</td>\n",
       "      <td>49743350002</td>\n",
       "    </tr>\n",
       "    <tr>\n",
       "      <th>65</th>\n",
       "      <td>49743369437</td>\n",
       "      <td>49743369437</td>\n",
       "      <td>49743369437</td>\n",
       "    </tr>\n",
       "    <tr>\n",
       "      <th>...</th>\n",
       "      <td>...</td>\n",
       "      <td>...</td>\n",
       "      <td>...</td>\n",
       "    </tr>\n",
       "    <tr>\n",
       "      <th>193</th>\n",
       "      <td>51323278290</td>\n",
       "      <td>51323278290</td>\n",
       "      <td>51323278290</td>\n",
       "    </tr>\n",
       "    <tr>\n",
       "      <th>198</th>\n",
       "      <td>51388234837</td>\n",
       "      <td>51388234837</td>\n",
       "      <td>51388234837</td>\n",
       "    </tr>\n",
       "    <tr>\n",
       "      <th>200</th>\n",
       "      <td>51389248318</td>\n",
       "      <td>51389248318</td>\n",
       "      <td>51389248318</td>\n",
       "    </tr>\n",
       "    <tr>\n",
       "      <th>199</th>\n",
       "      <td>51389248718</td>\n",
       "      <td>51389248718</td>\n",
       "      <td>51389248718</td>\n",
       "    </tr>\n",
       "    <tr>\n",
       "      <th>197</th>\n",
       "      <td>51389732569</td>\n",
       "      <td>51389732569</td>\n",
       "      <td>51389732569</td>\n",
       "    </tr>\n",
       "  </tbody>\n",
       "</table>\n",
       "<p>199 rows × 3 columns</p>\n",
       "</div>"
      ],
      "text/plain": [
       "      src_middle   URL_middle      PhotoID\n",
       "64   49742499418  49742499418  49742499418\n",
       "74   49743045891  49743045891  49743045891\n",
       "66   49743046746  49743046746  49743046746\n",
       "179  49743350002  49743350002  49743350002\n",
       "65   49743369437  49743369437  49743369437\n",
       "..           ...          ...          ...\n",
       "193  51323278290  51323278290  51323278290\n",
       "198  51388234837  51388234837  51388234837\n",
       "200  51389248318  51389248318  51389248318\n",
       "199  51389248718  51389248718  51389248718\n",
       "197  51389732569  51389732569  51389732569\n",
       "\n",
       "[199 rows x 3 columns]"
      ]
     },
     "execution_count": 40,
     "metadata": {},
     "output_type": "execute_result"
    }
   ],
   "source": [
    "middle_chars"
   ]
  },
  {
   "cell_type": "code",
   "execution_count": 41,
   "metadata": {},
   "outputs": [
    {
     "data": {
      "text/plain": [
       "True    199\n",
       "dtype: int64"
      ]
     },
     "execution_count": 41,
     "metadata": {},
     "output_type": "execute_result"
    }
   ],
   "source": [
    "# comparing the values. if all entries return true, then these sections are identical across the photo_src and URL\n",
    "pd.Series(middle_chars['src_middle'] == middle_chars['URL_middle']).value_counts()"
   ]
  },
  {
   "cell_type": "code",
   "execution_count": 42,
   "metadata": {},
   "outputs": [
    {
     "data": {
      "text/plain": [
       "True    199\n",
       "dtype: int64"
      ]
     },
     "execution_count": 42,
     "metadata": {},
     "output_type": "execute_result"
    }
   ],
   "source": [
    "pd.Series(middle_chars['src_middle'] == middle_chars['PhotoID']).value_counts()"
   ]
  },
  {
   "cell_type": "code",
   "execution_count": 43,
   "metadata": {},
   "outputs": [
    {
     "name": "stdout",
     "output_type": "stream",
     "text": [
      "Character number 35 through character number 47 of `photo_src` match character number 41 through character number 53 of `URL` and the `PhotoID`.\n"
     ]
    }
   ],
   "source": [
    "print('Character number', len('https://live.staticflickr.com/31337'), 'through character number', len('https://live.staticflickr.com/31337/50199457303'), \n",
    "      'of `photo_src` match character number', len('https://www.flickr.com/photos/fractracker'), 'through character number', \n",
    "      len('https://www.flickr.com/photos/fractracker/50199457303'), 'of `URL` and the `PhotoID`.')"
   ]
  },
  {
   "cell_type": "markdown",
   "metadata": {},
   "source": [
    "## 4."
   ]
  },
  {
   "cell_type": "code",
   "execution_count": 44,
   "metadata": {},
   "outputs": [
    {
     "data": {
      "text/plain": [
       "10"
      ]
     },
     "execution_count": 44,
     "metadata": {},
     "output_type": "execute_result"
    }
   ],
   "source": [
    "# finding the length of the digits in the second middle squence\n",
    "len('https://live.staticflickr.com/31337/50199457303_12742db461_o.jpg') - len('https://live.staticflickr.com/31337/50199457303_') - len('_o.jpg')"
   ]
  },
  {
   "cell_type": "code",
   "execution_count": 45,
   "metadata": {},
   "outputs": [],
   "source": [
    "# it looks like every photo source url ends in this sequence: _ + 10 characters + _o. + 3 characters\n",
    "def check_end_pattern(url):\n",
    "    # Regular expression to match the pattern\n",
    "    pattern = r'_[A-Za-z0-9]{10}_o\\.[a-z]{3}$'\n",
    "\n",
    "    # Search for the pattern in the string\n",
    "    match = re.search(pattern, url)\n",
    "    \n",
    "    # Return True if the pattern is found, otherwise False\n",
    "    return bool(match)"
   ]
  },
  {
   "cell_type": "code",
   "execution_count": 46,
   "metadata": {},
   "outputs": [
    {
     "data": {
      "text/plain": [
       "True    199\n",
       "Name: photo_src, dtype: int64"
      ]
     },
     "execution_count": 46,
     "metadata": {},
     "output_type": "execute_result"
    }
   ],
   "source": [
    "# if they all follow the pattern, they should all be true\n",
    "subset_data.photo_src.apply(check_end_pattern).value_counts()"
   ]
  }
 ],
 "metadata": {
  "kernelspec": {
   "display_name": "Python 3",
   "language": "python",
   "name": "python3"
  },
  "language_info": {
   "codemirror_mode": {
    "name": "ipython",
    "version": 3
   },
   "file_extension": ".py",
   "mimetype": "text/x-python",
   "name": "python",
   "nbconvert_exporter": "python",
   "pygments_lexer": "ipython3",
   "version": "3.10.11"
  }
 },
 "nbformat": 4,
 "nbformat_minor": 2
}
