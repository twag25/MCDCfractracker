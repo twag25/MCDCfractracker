{
 "cells": [
  {
   "cell_type": "raw",
   "metadata": {
    "vscode": {
     "languageId": "raw"
    }
   },
   "source": [
    "---\n",
    "title: Initial Data Report\n",
    "subtitle: FracTracker Flickr Photos\n",
    "author: Graham Joss, Tess Wagner\n",
    "date: 08/2024\n",
    "format: \n",
    "  html:\n",
    "    self-contained: true\n",
    "    font-size: 90%\n",
    "    mainfont: serif\n",
    "    toc: true\n",
    "    toc-title: Contents\n",
    "jupyter: python3\n",
    "---"
   ]
  },
  {
   "cell_type": "markdown",
   "metadata": {},
   "source": [
    "# Introduction\n",
    "This report is a part of FracTracker's Summer 2024 Internship Project. In this report, we identify labeling issues found in the the title fields of FracTracker's Flickr photos. Implementing a consistent naming convention is an important first step towards automating the process of populating the FracTracker GIS map with relational photo data. We will highlight the attributes of the title field and key insights along the way.\n",
    "\n",
    "### Data Source\n",
    "The data used in this report is scraped from Fractracker's Flickr page found [here](https://www.flickr.com/photos/fractracker/albums/). The photos were captured and named by members of the FracTracker organization. These photos contain imagery of fracking sites and sites related to the fracking process. Most of the photos are located in the United States. These photos were taken in support of FracTracker's initiative to document environmental, health-related, and other impacts of fracking. This report is based on data scraped in July 2024."
   ]
  },
  {
   "cell_type": "code",
   "execution_count": 67,
   "metadata": {},
   "outputs": [],
   "source": [
    "# importing packages \n",
    "import re\n",
    "import pandas as pd\n",
    "import gc # releasing heavy dataframes\n",
    "import seaborn as sns\n",
    "import matplotlib.pyplot as plt"
   ]
  },
  {
   "cell_type": "code",
   "execution_count": 68,
   "metadata": {},
   "outputs": [],
   "source": [
    "# importing our data\n",
    "df = pd.read_csv('data/tidied_threaded_data_pull.csv')"
   ]
  },
  {
   "cell_type": "code",
   "execution_count": 69,
   "metadata": {},
   "outputs": [
    {
     "name": "stdout",
     "output_type": "stream",
     "text": [
      "This data set has 2718 photos and 8 attributes per photo.\n",
      "The attributes in this data set are ['PhotoID', 'AlbumTitle', 'Title', 'Date_taken', 'Description', 'URL', 'Latitude', 'Longitude']\n"
     ]
    }
   ],
   "source": [
    "shape = df.shape # get its dimensions\n",
    "print(\"This data set has\", shape[0], \"photos and\", shape[1], \"attributes per photo.\")\n",
    "print(\"The attributes in this data set are\", list(df.columns))"
   ]
  },
  {
   "cell_type": "markdown",
   "metadata": {},
   "source": [
    "# The Title Field\n",
    "### Let's take a peak at what's in the title column..."
   ]
  },
  {
   "cell_type": "code",
   "execution_count": 70,
   "metadata": {},
   "outputs": [
    {
     "name": "stdout",
     "output_type": "stream",
     "text": [
      "An example from the title column: TAuch_FracSand-Mine-WisconsinProppants-Hixton_WI_June2019\n",
      "The attributes in this title column: ['TAuch', 'FracSand-Mine-WisconsinProppants-Hixton', 'WI', 'June2019']\n"
     ]
    }
   ],
   "source": [
    "s = df.loc[0,'Title'] # grab the first cell's contents of the Title column\n",
    "print(\"An example from the title column:\", s)\n",
    "print(\"The attributes in this title column:\", s.split('_')) # demonstrate the split function"
   ]
  },
  {
   "cell_type": "markdown",
   "metadata": {},
   "source": [
    "In this report, we clean the title field. The title field scraped from each FracTracker Flickr image contains the name of the photographer, the topic of the album where the photo is located on Flickr, the type of fracking-related site where the photo was taken, the name of the company that owns the site, the county and state where the site is located, the name of the partner company who assisted with capturing the photo, and the date that the photo was taken.  \n",
    "\n",
    "### Issues with the Title Field\n",
    "As far as we know, there is no way of extracting all the information in a _single pass algorithm_. We attempted to use the RegEx library to separate the various attributes, but many of the title entries do not follow the intended structure (listed below). \n",
    "\n",
    "### Title Field Structure\n",
    "The structure of the title field is explained under each photo's listed title as `Photographer_topic-sitespecific-siteowner-county-state_partneraffiliation_date(version)`. The structure we use in this report to separate out the important attributes is as follows: `PhotoAttribution _ Type-of-Hazardous-Site _ CommercialName _ CountyState _ MonthYear`"
   ]
  },
  {
   "cell_type": "markdown",
   "metadata": {},
   "source": [
    "# Cleaning the Title Field\n",
    "In this section of the report, we are separating out the different attributes found in the title column.\n",
    "### Creating `Title_photo_attr` Column\n",
    "Let's create a new column that contains the first part of the title: the photo attribution"
   ]
  },
  {
   "cell_type": "code",
   "execution_count": 71,
   "metadata": {},
   "outputs": [
    {
     "data": {
      "text/html": [
       "<div>\n",
       "<style scoped>\n",
       "    .dataframe tbody tr th:only-of-type {\n",
       "        vertical-align: middle;\n",
       "    }\n",
       "\n",
       "    .dataframe tbody tr th {\n",
       "        vertical-align: top;\n",
       "    }\n",
       "\n",
       "    .dataframe thead th {\n",
       "        text-align: right;\n",
       "    }\n",
       "</style>\n",
       "<table border=\"1\" class=\"dataframe\">\n",
       "  <thead>\n",
       "    <tr style=\"text-align: right;\">\n",
       "      <th></th>\n",
       "      <th>Title</th>\n",
       "      <th>Title_photo_attr</th>\n",
       "    </tr>\n",
       "  </thead>\n",
       "  <tbody>\n",
       "    <tr>\n",
       "      <th>0</th>\n",
       "      <td>TAuch_FracSand-Mine-WisconsinProppants-Hixton_...</td>\n",
       "      <td>TAuch</td>\n",
       "    </tr>\n",
       "    <tr>\n",
       "      <th>1</th>\n",
       "      <td>TAuch_FracSand-Mine-USSilica-Ottawa_IL_LightHa...</td>\n",
       "      <td>TAuch</td>\n",
       "    </tr>\n",
       "    <tr>\n",
       "      <th>2</th>\n",
       "      <td>TAuch_FracSand-Mine-USSilica-Ottawa_IL_LightHa...</td>\n",
       "      <td>TAuch</td>\n",
       "    </tr>\n",
       "    <tr>\n",
       "      <th>3</th>\n",
       "      <td>TAuch_FracSand-Mine-Unimin-NorthUtica_IL_Light...</td>\n",
       "      <td>TAuch</td>\n",
       "    </tr>\n",
       "    <tr>\n",
       "      <th>4</th>\n",
       "      <td>TAuch_FracSand-Mine-Unimin-NorthUtica_IL_June2016</td>\n",
       "      <td>TAuch</td>\n",
       "    </tr>\n",
       "  </tbody>\n",
       "</table>\n",
       "</div>"
      ],
      "text/plain": [
       "                                               Title Title_photo_attr\n",
       "0  TAuch_FracSand-Mine-WisconsinProppants-Hixton_...            TAuch\n",
       "1  TAuch_FracSand-Mine-USSilica-Ottawa_IL_LightHa...            TAuch\n",
       "2  TAuch_FracSand-Mine-USSilica-Ottawa_IL_LightHa...            TAuch\n",
       "3  TAuch_FracSand-Mine-Unimin-NorthUtica_IL_Light...            TAuch\n",
       "4  TAuch_FracSand-Mine-Unimin-NorthUtica_IL_June2016            TAuch"
      ]
     },
     "execution_count": 71,
     "metadata": {},
     "output_type": "execute_result"
    }
   ],
   "source": [
    "# Create a new column in the dataframe that contains the first part of the Title column\n",
    "df['Title_photo_attr'] = df.Title.apply(lambda x : x.split('_')[0])\n",
    "df[['Title', 'Title_photo_attr']].head()"
   ]
  },
  {
   "cell_type": "markdown",
   "metadata": {},
   "source": [
    "# Data Analysis\n",
    "graham notes!!\n",
    "- histogram of photo upload and taken date. Date on the X axis and photo count. Probably a large number of classes\n",
    "- bar/pie chart of states by photo count\n",
    "- bar/pie of photo attribution\n",
    "- bar/pie of 'mission' by photo count\n",
    "- how many photos taken by LightHawk Aviation company excluding the year, what month are the photos taken in"
   ]
  },
  {
   "cell_type": "markdown",
   "metadata": {},
   "source": [
    "### `Title_photo_attr`: Who took photos?\n",
    "Let's see what going on in this column"
   ]
  },
  {
   "cell_type": "code",
   "execution_count": 72,
   "metadata": {},
   "outputs": [
    {
     "data": {
      "text/plain": [
       "False"
      ]
     },
     "execution_count": 72,
     "metadata": {},
     "output_type": "execute_result"
    }
   ],
   "source": [
    "all(df.loc[:,'Title_photo_attr']=='TAuch') # some not TED "
   ]
  },
  {
   "cell_type": "code",
   "execution_count": 73,
   "metadata": {},
   "outputs": [
    {
     "name": "stdout",
     "output_type": "stream",
     "text": [
      "Unique photo contibutors: ['TAuch' 'LDaul' 'HBoschen' 'RZarwell' 'MWhipple' 'BLenker' 'SRubright'\n",
      " 'BHughes' 'EJackson' 'SSmith' 'KEdelstein' 'MKelso' 'RJohnson' 'DMartin'\n",
      " 'DSC' 'DJI']\n",
      "Number of unique photo contibutors: 16\n"
     ]
    }
   ],
   "source": [
    "photo_attribution = df['Title_photo_attr'].unique()\n",
    "print('Unique photo contibutors:', photo_attribution)\n",
    "print('Number of unique photo contibutors:', len(photo_attribution))\n",
    "\n",
    "# photo_attribution = set(photographer for photographer in df['Title_photo_attr'])\n",
    "# photo_attribution, len(photo_attribution)"
   ]
  },
  {
   "cell_type": "code",
   "execution_count": 74,
   "metadata": {},
   "outputs": [
    {
     "data": {
      "text/plain": [
       "TAuch         2613\n",
       "SSmith          24\n",
       "BLenker         14\n",
       "MKelso          14\n",
       "RJohnson        14\n",
       "EJackson        13\n",
       "KEdelstein       7\n",
       "DMartin          4\n",
       "SRubright        3\n",
       "BHughes          3\n",
       "LDaul            2\n",
       "HBoschen         2\n",
       "DSC              2\n",
       "RZarwell         1\n",
       "MWhipple         1\n",
       "DJI              1\n",
       "Name: Title_photo_attr, dtype: int64"
      ]
     },
     "execution_count": 74,
     "metadata": {},
     "output_type": "execute_result"
    }
   ],
   "source": [
    "df['Title_photo_attr'].value_counts()"
   ]
  },
  {
   "cell_type": "code",
   "execution_count": 75,
   "metadata": {},
   "outputs": [
    {
     "name": "stdout",
     "output_type": "stream",
     "text": [
      "Ted contributed 2613 photos which make up 96.14 % of the dataset.\n"
     ]
    }
   ],
   "source": [
    "print('Ted contributed', sum(df['Title_photo_attr']=='TAuch'), 'photos which make up', round(sum(df['Title_photo_attr']=='TAuch')/shape[0]*100, 2), '% of the dataset.') # how many are TED ?"
   ]
  },
  {
   "cell_type": "code",
   "execution_count": 76,
   "metadata": {},
   "outputs": [
    {
     "data": {
      "text/plain": [
       "[Text(0, 0, '2613'),\n",
       " Text(0, 0, '2'),\n",
       " Text(0, 0, '2'),\n",
       " Text(0, 0, '1'),\n",
       " Text(0, 0, '1'),\n",
       " Text(0, 0, '14'),\n",
       " Text(0, 0, '3'),\n",
       " Text(0, 0, '3'),\n",
       " Text(0, 0, '13'),\n",
       " Text(0, 0, '24'),\n",
       " Text(0, 0, '7'),\n",
       " Text(0, 0, '14'),\n",
       " Text(0, 0, '14'),\n",
       " Text(0, 0, '4'),\n",
       " Text(0, 0, '2'),\n",
       " Text(0, 0, '1')]"
      ]
     },
     "execution_count": 76,
     "metadata": {},
     "output_type": "execute_result"
    },
    {
     "data": {
      "image/png": "[encoded data removed]",
      "text/plain": [
       "<Figure size 1600x500 with 1 Axes>"
      ]
     },
     "metadata": {},
     "output_type": "display_data"
    }
   ],
   "source": [
    "plt.figure(figsize=(16, 5))\n",
    "ax = sns.countplot(data = df, y = df['Title_photo_attr'])\n",
    "ax.bar_label(ax.containers[0])"
   ]
  }
 ],
 "metadata": {
  "kernelspec": {
   "display_name": "Python 3",
   "language": "python",
   "name": "python3"
  },
  "language_info": {
   "codemirror_mode": {
    "name": "ipython",
    "version": 3
   },
   "file_extension": ".py",
   "mimetype": "text/x-python",
   "name": "python",
   "nbconvert_exporter": "python",
   "pygments_lexer": "ipython3",
   "version": "3.10.11"
  }
 },
 "nbformat": 4,
 "nbformat_minor": 2
}
