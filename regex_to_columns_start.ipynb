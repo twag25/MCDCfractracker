{
 "cells": [
  {
   "cell_type": "code",
   "execution_count": 1,
   "metadata": {},
   "outputs": [],
   "source": [
    "import pandas as pd\n",
    "import re"
   ]
  },
  {
   "cell_type": "code",
   "execution_count": 2,
   "metadata": {},
   "outputs": [],
   "source": [
    "data = pd.read_csv('tidied_threaded_data_pull.csv')"
   ]
  },
  {
   "cell_type": "code",
   "execution_count": 3,
   "metadata": {},
   "outputs": [
    {
     "name": "stdout",
     "output_type": "stream",
     "text": [
      "{'Photographer': 'TAuch', 'topic': 'FracSand', 'sitespecific': 'Mine', 'siteowner': 'USSilica', 'county': 'Ottawa', 'state': 'IL', 'partneraffiliation': 'LightHawk', 'date': 'June2016'}\n",
      "{'Photographer': 'TAuch', 'topic': 'FracSand', 'sitespecific': 'Mine', 'siteowner': 'RosyMound', 'county': 'GrandHaven', 'state': 'MI', 'partneraffiliation': '', 'date': 'Oct2016'}\n",
      "String does not match the expected pattern.\n"
     ]
    }
   ],
   "source": [
    "def parse_string(input_string):\n",
    "    pattern = r'(?P<Photographer>[\\w]+)_(?P<topic>[\\w]+)-(?P<sitespecific>[\\w]+)-(?P<siteowner>[\\w]+)-(?P<county>[\\w]*)_(?P<state>[A-Z]{2})_?(?P<partneraffiliation>[\\w]*)_(?P<date>[\\w]+)'\n",
    "    match = re.match(pattern, input_string)\n",
    "    if match:\n",
    "        \n",
    "        return {\n",
    "            'Photographer': match.group('Photographer'),\n",
    "            'topic': match.group('topic'),\n",
    "            'sitespecific': match.group('sitespecific'),\n",
    "            'siteowner': match.group('siteowner'),\n",
    "            'county': match.group('county'),\n",
    "            'state': match.group('state'),\n",
    "            'partneraffiliation': match.group('partneraffiliation') if match.group('partneraffiliation') else '',\n",
    "            'date': match.group('date')\n",
    "        }\n",
    "    else:\n",
    "        return None\n",
    "\n",
    "# Example usage:\n",
    "input_string1 = 'TAuch_FracSand-Mine-USSilica-Ottawa_IL_LightHawk_June2016(2)'\n",
    "parsed_data1 = parse_string(input_string1)\n",
    "if parsed_data1:\n",
    "    print(parsed_data1)\n",
    "else:\n",
    "    print(\"String does not match the expected pattern.\")\n",
    "\n",
    "input_string2 = 'TAuch_FracSand-Mine-RosyMound-GrandHaven_MI_Oct2016(2)'\n",
    "parsed_data2 = parse_string(input_string2)\n",
    "if parsed_data2:\n",
    "    print(parsed_data2)\n",
    "else:\n",
    "    print(\"String does not match the expected pattern.\")\n",
    "\n",
    "input_string3 = 'TAuch_FracSand-AbandonedMine-ATIBlackDiamond-PreferredSands-Woodbury-MN_Nov2015(1)'\n",
    "parsed_data3 = parse_string(input_string3)\n",
    "if parsed_data3:\n",
    "    print(parsed_data3)\n",
    "else:\n",
    "    print(\"String does not match the expected pattern.\")"
   ]
  },
  {
   "cell_type": "code",
   "execution_count": 6,
   "metadata": {},
   "outputs": [
    {
     "data": {
      "text/plain": [
       "['TAuch_FracSand-Mine-RosyMound-GrandHaven_MI_Oct2016(2)',\n",
       " 'TAuch_FracSand-Mine-RosyMound-GrandHaven_MI_Oct2016(1)',\n",
       " 'TAuch_FracSand-Mine-Unimin-Ottawa-MN_Aug2017',\n",
       " 'TAuch_FracSand-Mine-Unimin-Kasota-MN_Aug2017',\n",
       " 'TAuch_FracSand-AbandonedMine-ATIBlackDiamond-PreferredSands-Woodbury-MN_Nov2015(1)',\n",
       " 'TAuch_FracSand-Mine-MartinMarietta-Poteet-TX_Nov2019(8)',\n",
       " 'TAuch_FracSand-Mine-MartinMarietta-Poteet-TX_Nov2019(7)',\n",
       " 'TAuch_FracSand-Mine-MartinMarietta-Poteet-TX_Nov2019(4)',\n",
       " 'TAuch_FracSand-Mine-MartinMarietta-Poteet-TX_Nov2019(3)',\n",
       " 'TAuch_FracSand-Mine-WisconsinProppants-Curran_WI_June2019',\n",
       " 'TAuch_FracSand-Mine-Dovre-WI_Fall2013(3)']"
      ]
     },
     "execution_count": 6,
     "metadata": {},
     "output_type": "execute_result"
    }
   ],
   "source": [
    "list(data.loc[25:35, 'Title'])"
   ]
  },
  {
   "cell_type": "markdown",
   "metadata": {},
   "source": [
    "my plan is to try to use these as testers and write smth using regex to separate out the parts we need"
   ]
  }
 ],
 "metadata": {
  "kernelspec": {
   "display_name": "Python 3",
   "language": "python",
   "name": "python3"
  },
  "language_info": {
   "codemirror_mode": {
    "name": "ipython",
    "version": 3
   },
   "file_extension": ".py",
   "mimetype": "text/x-python",
   "name": "python",
   "nbconvert_exporter": "python",
   "pygments_lexer": "ipython3",
   "version": "3.10.11"
  }
 },
 "nbformat": 4,
 "nbformat_minor": 2
}
